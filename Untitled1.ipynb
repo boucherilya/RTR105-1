{
 "cells": [
  {
   "cell_type": "markdown",
   "metadata": {},
   "source": [
    "#4.labaratorijas darbs\n",
    "#Ielādējam savu repozitāriju terminālā un islēdzam  idle & vidi kur sākam veidot funkciju #"
   ]
  },
  {
   "cell_type": "code",
   "execution_count": 3,
   "metadata": {},
   "outputs": [],
   "source": [
    "import sys\n",
    "sys.path.append(\"user/local/anaconda3/lib/python3.6/site-packages\")\n"
   ]
  },
  {
   "cell_type": "markdown",
   "metadata": {},
   "source": [
    "#sys importē iebūvēto moduli (bibliotēku), kas nosaukts sys.\n",
    "\n",
    "from numpy import random, cos\n",
    "#from math import sqrt\n",
    "#from math import sinh\n",
    "\n",
    "#importē izlases moduli no Python standarta bibliotēkas.\n",
    "\n",
    "N = 7000\n",
    "N1 = 0\n",
    "\n",
    "#Pieškiram vienību skaitu cik punktu būs attēlot funkcijā (7000)\n",
    "\n",
    "x = random.uniform(0,5,N)\n",
    "y = random.uniform(0,80,N)\n",
    "\n",
    "#Noskām grafika iedalijuma punktus pa x asi 5 iedalijumi pa y asi 80 \n",
    "\n",
    "funct = cos(x)*cos(x)\n",
    "#Norādam kāda funkcija būs attēlota \n",
    "\n",
    "from matplotlib import pyplot as plt\n",
    "plt.grid()\n",
    "plt.xlabel('x')\n",
    "plt.ylabel('f(x)')\n",
    "plt.title('Funkcija $cosx(x*cos(x))$ ')\n",
    "plt.plot(x, funct, 'o', color = \"#990000\")\n",
    "for i in range(N):\n",
    "#Pievienojam krāsas punktiem zaļo un sarkano kas sadalīs grafika 2 daļās\n",
    "    \n",
    "    #plt.plot(x[i],y[i],\"ko\")\n",
    "    if x[i] > 0 and x[i] < 5:\n",
    "        if y[i] > 0 and y[i] < funct[i]:\n",
    "            plt.plot(x[i],y[i],\"go\")\n",
    "            N1 = N1 + 1\n",
    "        else:\n",
    "            plt.plot(x[i],y[i],\"ro\")\n",
    "#Grafika punkti kas atrodas zem tā ir iekrasoti zaļā krāsā, bet virs grafika sarkanā lidz ar to mēs to pieprasām un galu galā saņemam iekrāsotu taisnstūri\n",
    "plt.show()\n",
    "\n",
    "s_zinh = 5 * 5\n",
    "s_nez = 1. * s_zin * N1/N\n",
    "print(s_cos)\n",
    "print(s_nez)\n",
    "\n",
    "#Ierakstām kurā momentā punktiem ir jāizmaina krāsa lai sanāktu krāsu dalijums pēc grafika līknes"
   ]
  },
  {
   "cell_type": "code",
   "execution_count": null,
   "metadata": {},
   "outputs": [],
   "source": []
  }
 ],
 "metadata": {
  "kernelspec": {
   "display_name": "Python 3",
   "language": "python",
   "name": "python3"
  },
  "language_info": {
   "codemirror_mode": {
    "name": "ipython",
    "version": 3
   },
   "file_extension": ".py",
   "mimetype": "text/x-python",
   "name": "python",
   "nbconvert_exporter": "python",
   "pygments_lexer": "ipython3",
   "version": "3.6.4"
  }
 },
 "nbformat": 4,
 "nbformat_minor": 2
}
