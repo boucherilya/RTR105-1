{
 "cells": [
  {
   "cell_type": "markdown",
   "metadata": {},
   "source": [
    "# -*- coding: utf-8 -*-"
   ]
  },
  {
   "cell_type": "code",
   "execution_count": 1,
   "metadata": {},
   "outputs": [],
   "source": [
    "from math import cos"
   ]
  },
  {
   "cell_type": "markdown",
   "metadata": {},
   "source": [
    "#(1.) * (2.) = (2.) - float * int = float\n",
    "#(1.) * (2.) = (2.) - float * float = float#float(input()) -> float"
   ]
  },
  {
   "cell_type": "code",
   "execution_count": 2,
   "metadata": {},
   "outputs": [
    {
     "name": "stdout",
     "output_type": "stream",
     "text": [
      "Lietotāj, lūdzu, ievadi argumentu (x): 2\n"
     ]
    }
   ],
   "source": [
    "x = float( input(\"Lietotāj, lūdzu, ievadi argumentu (x): \"))"
   ]
  },
  {
   "cell_type": "markdown",
   "metadata": {},
   "source": [
    "#print type(x)"
   ]
  },
  {
   "cell_type": "code",
   "execution_count": 7,
   "metadata": {},
   "outputs": [
    {
     "ename": "SyntaxError",
     "evalue": "invalid syntax (<ipython-input-7-38896ddb12a7>, line 14)",
     "output_type": "error",
     "traceback": [
      "\u001b[0;36m  File \u001b[0;32m\"<ipython-input-7-38896ddb12a7>\"\u001b[0;36m, line \u001b[0;32m14\u001b[0m\n\u001b[0;31m    print \"(cos(x))**2(%.2f) = %.2f\"%(x,y)\u001b[0m\n\u001b[0m                                   ^\u001b[0m\n\u001b[0;31mSyntaxError\u001b[0m\u001b[0;31m:\u001b[0m invalid syntax\n"
     ]
    }
   ],
   "source": [
    "print (\"x = %.f cos(x)*cos(x) = %.2f\"%(x,cos(x)))\n",
    "\n",
    "print(\" 500\")\n",
    "print(\"------\")\n",
    "print(\"\\\\              k+1  2k  2k-1\")\n",
    "print(\" \\\\          (-1)   *x  *2\")\n",
    "print(\"    cos(2) => |-------------------\")\n",
    "print(\" /           (2*k)!\")\n",
    "print(\"/\")\n",
    "print(\"------\")\n",
    "print(\" k=1\")\n",
    "\n",
    "y = (cos(x))**2\n",
    "print \"(cos(x))**2(%.2f) = %.2f\"%(x,y)\n",
    "\n",
    "a0 = (-1)**1*x**0*2**(-1)/(1)\n",
    "S0 = a0\n",
    "print \"a0 = %.2f SO = %.2f\"%(a0,S0)\n",
    "\n",
    "a1 = (-1)**2*x**2*2/(1*2)\n",
    "S1 = a0 + a1\n",
    "print \"a1 = %.2f S1 = %.2f\"%(a1,S1)\n",
    "\n",
    "a2  = (-1)**3*x**4*2**3/(1*2*3*4)\n",
    "S2 = a0 + a1 + a2\n",
    "print \"a2 = %.2f S2 = %.2f\"%(a2,S2)\n",
    "\n",
    "a3  = (-1)**4*x**6*2**5/(1*2*3*4*5*6)\n",
    "S3 = a0 + a1 + a2 + a3\n",
    "print \"a3 = %.2f S3 = %.2f\"%(a3,S3)"
   ]
  },
  {
   "cell_type": "code",
   "execution_count": 8,
   "metadata": {},
   "outputs": [
    {
     "name": "stdout",
     "output_type": "stream",
     "text": [
      "Lietotāj, lūdzu, ievadi argumentu (x): 2\n"
     ]
    }
   ],
   "source": [
    "x = float(input(\"Lietotāj, lūdzu, ievadi argumentu (x): \"))\n",
    "y = cos(x)*cos(x)"
   ]
  },
  {
   "cell_type": "code",
   "execution_count": 10,
   "metadata": {},
   "outputs": [
    {
     "name": "stdout",
     "output_type": "stream",
     "text": [
      "cos(2.00) = 0.17\n",
      "a0 = -0.50 S0 = -0.50\n"
     ]
    },
    {
     "ename": "NameError",
     "evalue": "name 'a1' is not defined",
     "output_type": "error",
     "traceback": [
      "\u001b[0;31m---------------------------------------------------------------------------\u001b[0m",
      "\u001b[0;31mNameError\u001b[0m                                 Traceback (most recent call last)",
      "\u001b[0;32m<ipython-input-10-88b76319e833>\u001b[0m in \u001b[0;36m<module>\u001b[0;34m()\u001b[0m\n\u001b[1;32m      4\u001b[0m \u001b[0mprint\u001b[0m\u001b[0;34m(\u001b[0m\u001b[0;34m\"a0 = %.2f S0 = %.2f\"\u001b[0m\u001b[0;34m%\u001b[0m\u001b[0;34m(\u001b[0m\u001b[0ma0\u001b[0m\u001b[0;34m,\u001b[0m\u001b[0mS\u001b[0m\u001b[0;34m)\u001b[0m\u001b[0;34m)\u001b[0m\u001b[0;34m\u001b[0m\u001b[0;34m\u001b[0m\u001b[0m\n\u001b[1;32m      5\u001b[0m \u001b[0;34m\u001b[0m\u001b[0m\n\u001b[0;32m----> 6\u001b[0;31m \u001b[0mS\u001b[0m \u001b[0;34m=\u001b[0m \u001b[0mS\u001b[0m \u001b[0;34m+\u001b[0m \u001b[0ma1\u001b[0m\u001b[0;34m\u001b[0m\u001b[0;34m\u001b[0m\u001b[0m\n\u001b[0m\u001b[1;32m      7\u001b[0m \u001b[0mprint\u001b[0m\u001b[0;34m(\u001b[0m\u001b[0;34m\"a1 = %.2f S1 = %.2f\"\u001b[0m\u001b[0;34m%\u001b[0m\u001b[0;34m(\u001b[0m\u001b[0ma1\u001b[0m\u001b[0;34m,\u001b[0m\u001b[0mS\u001b[0m\u001b[0;34m)\u001b[0m\u001b[0;34m)\u001b[0m\u001b[0;34m\u001b[0m\u001b[0;34m\u001b[0m\u001b[0m\n\u001b[1;32m      8\u001b[0m \u001b[0;34m\u001b[0m\u001b[0m\n",
      "\u001b[0;31mNameError\u001b[0m: name 'a1' is not defined"
     ]
    }
   ],
   "source": [
    "print(\"cos(%.2f) = %.2f\"%(x,y))\n",
    "a0 = (-1)**1*x**0*2**(-1)/(1)\n",
    "S = a0\n",
    "print(\"a0 = %.2f S0 = %.2f\"%(a0,S))\n",
    "\n",
    "S = S + a1\n",
    "print(\"a1 = %.2f S1 = %.2f\"%(a1,S))\n",
    "\n",
    "a2 = (-1)**3*x**4*2**3/(1*2*3*4)\n",
    "S = S + a2\n",
    "print(\"a2 = %.2f S2 = %.2f\"%(a2,S))\n",
    "\n",
    "a3 = (-1)**4*x**6*2**5/(1*2*3*4*5*6)\n",
    "S3 = S + a3\n",
    "print(\"a3 = %.2f S3 = %.2f\"%(a3,S))"
   ]
  },
  {
   "cell_type": "code",
   "execution_count": null,
   "metadata": {},
   "outputs": [],
   "source": []
  }
 ],
 "metadata": {
  "kernelspec": {
   "display_name": "Python 3",
   "language": "python",
   "name": "python3"
  },
  "language_info": {
   "codemirror_mode": {
    "name": "ipython",
    "version": 3
   },
   "file_extension": ".py",
   "mimetype": "text/x-python",
   "name": "python",
   "nbconvert_exporter": "python",
   "pygments_lexer": "ipython3",
   "version": "3.6.7"
  }
 },
 "nbformat": 4,
 "nbformat_minor": 2
}
